{
 "cells": [
  {
   "cell_type": "markdown",
   "id": "7a5b3703",
   "metadata": {},
   "source": [
    "# <h1 align = \"center\"><font color=Green>Python Fundamentals Exercise 01 </font></h1>"
   ]
  },
  {
   "cell_type": "markdown",
   "id": "595a57aa",
   "metadata": {},
   "source": [
    "<h3 align = \"center\"><font color=Green>Solve the following questions </font></h1>"
   ]
  },
  {
   "cell_type": "markdown",
   "id": "0b7c66d5",
   "metadata": {},
   "source": [
    "### question 1\n",
    "\n",
    ">\n",
    "> Create a summation calculator that takes two values from a user and print the summation of those two values.\n",
    "\n",
    "    Example\n",
    ">input\n",
    ">\n",
    "> x = 5\n",
    ">\n",
    "> y = 6\n",
    "\n",
    "\n",
    ">output\n",
    ">\n",
    ">z = 11\n"
   ]
  },
  {
   "cell_type": "code",
   "execution_count": 2,
   "id": "898e6c7e",
   "metadata": {},
   "outputs": [
    {
     "name": "stdin",
     "output_type": "stream",
     "text": [
      "Enter the first value:  10\n",
      "Enter the second value:  4\n"
     ]
    },
    {
     "name": "stdout",
     "output_type": "stream",
     "text": [
      "Sum = 14.0\n"
     ]
    }
   ],
   "source": [
    "x = float(input(\"Enter the first value: \"))\n",
    "y = float(input(\"Enter the second value: \"))\n",
    "print(f\"Sum = {x + y}\")\n"
   ]
  },
  {
   "cell_type": "markdown",
   "id": "427ac6f1",
   "metadata": {},
   "source": [
    "***"
   ]
  },
  {
   "cell_type": "markdown",
   "id": "462ba485",
   "metadata": {},
   "source": [
    "### question 2\n",
    "\n",
    ">\n",
    "> Create a subtraction calculator that takes two values from a user and print the subtraction of those two values.\n",
    "\n",
    "    Example\n",
    ">input\n",
    ">\n",
    "> x = 5\n",
    ">\n",
    "> y = 6\n",
    "\n",
    "\n",
    ">output\n",
    ">\n",
    ">z = 1\n"
   ]
  },
  {
   "cell_type": "code",
   "execution_count": 1,
   "id": "0374f2b8",
   "metadata": {},
   "outputs": [
    {
     "name": "stdout",
     "output_type": "stream",
     "text": [
      "This program calculates X-Y\n"
     ]
    },
    {
     "name": "stdin",
     "output_type": "stream",
     "text": [
      "Enter the X value:  8\n",
      "Enter the Y value:  9\n"
     ]
    },
    {
     "name": "stdout",
     "output_type": "stream",
     "text": [
      "X - Y = -1.0\n"
     ]
    }
   ],
   "source": [
    "print(\"This program calculates X-Y\")\n",
    "x = float(input(\"Enter the X value: \"))\n",
    "y = float(input(\"Enter the Y value: \"))\n",
    "print(f\"X - Y = {x - y}\")\n"
   ]
  },
  {
   "cell_type": "markdown",
   "id": "72e2ba2d",
   "metadata": {},
   "source": [
    "***"
   ]
  },
  {
   "cell_type": "markdown",
   "id": "155f7305",
   "metadata": {},
   "source": [
    "### question 3\n",
    "\n",
    ">\n",
    "> Create a division calculator that takes two values from a user and print two values \n",
    "> - The division of those two values.\n",
    "> - The division of those two values as an integer.\n",
    "\n",
    "    Example 1\n",
    ">input\n",
    ">\n",
    "> x = 10\n",
    ">\n",
    "> y = 2\n",
    "\n",
    "\n",
    ">output\n",
    ">\n",
    ">z = 5\n",
    "\n",
    "    Example 2\n",
    ">input\n",
    ">\n",
    "> x = 11\n",
    ">\n",
    "> y = 2\n",
    "\n",
    "\n",
    ">output\n",
    ">\n",
    ">z = 5"
   ]
  },
  {
   "cell_type": "code",
   "execution_count": 4,
   "id": "d1849f24",
   "metadata": {},
   "outputs": [
    {
     "name": "stdout",
     "output_type": "stream",
     "text": [
      "This program calculates X/Y\n"
     ]
    },
    {
     "name": "stdin",
     "output_type": "stream",
     "text": [
      "Enter the X value:  14\n",
      "Enter the Y value:  6\n"
     ]
    },
    {
     "name": "stdout",
     "output_type": "stream",
     "text": [
      "X / Y = 2.3333333333333335 *as it is*\n",
      "X / Y = 2 *as integer*\n"
     ]
    }
   ],
   "source": [
    "print(\"This program calculates X/Y\")\n",
    "x = float(input(\"Enter the X value: \"))\n",
    "y = float(input(\"Enter the Y value: \"))\n",
    "print(f\"X / Y = {x / y} *as it is*\")\n",
    "print(f\"X / Y = {int(x / y)} *as integer*\")\n"
   ]
  },
  {
   "cell_type": "markdown",
   "id": "a22d4269",
   "metadata": {},
   "source": [
    "***"
   ]
  },
  {
   "cell_type": "markdown",
   "id": "46224617",
   "metadata": {},
   "source": [
    "### question 4\n",
    "\n",
    "> Create a calculator takes three values\n",
    "> - x \"First input number\"\n",
    "> - y \"second input number\"\n",
    "> - operation \"Third input number\"\n",
    ">\n",
    "> make sure to apply the requested operation as needed.\n",
    "> if the operation is outside your defined choices you have to print a warning message\n",
    "\n",
    "    Example 1\n",
    ">input\n",
    ">\n",
    "> x = 5\n",
    ">\n",
    "> y = 6\n",
    ">\n",
    "> operation = sum or +\n",
    ">\n",
    "\n",
    ">output\n",
    ">\n",
    ">z = 11\n",
    "\n",
    "    Example 2\n",
    ">input\n",
    ">\n",
    "> x = 5\n",
    ">\n",
    "> y = 6\n",
    ">\n",
    "> operation = subtract or -\n",
    ">\n",
    "\n",
    ">output\n",
    ">\n",
    ">z = 1\n",
    " \n",
    "    Example 3\n",
    ">input\n",
    ">\n",
    "> x = 5\n",
    ">\n",
    "> y = 6\n",
    ">\n",
    "> operation = multiplication or *\n",
    ">\n",
    "\n",
    ">output\n",
    ">\n",
    ">z = 30\n",
    "\n",
    "    Example 4\n",
    ">input\n",
    ">\n",
    "> x = 50\n",
    ">\n",
    "> y = 10\n",
    ">\n",
    "> operation = division or /\n",
    ">\n",
    "\n",
    ">output\n",
    ">\n",
    ">z = 5\n"
   ]
  },
  {
   "cell_type": "code",
   "execution_count": null,
   "id": "9455b13e",
   "metadata": {},
   "outputs": [
    {
     "name": "stdin",
     "output_type": "stream",
     "text": [
      "Enter the first number:  8\n",
      "Enter the second number:  9\n",
      "Enter operand as [+,-,*,/]:  k\n"
     ]
    },
    {
     "name": "stdout",
     "output_type": "stream",
     "text": [
      "Enter a valid operand...\n"
     ]
    }
   ],
   "source": [
    "x = float(input(\"Enter the first number: \"))\n",
    "y = float(input(\"Enter the second number: \"))\n",
    "while True:\n",
    "    symbol = input(\"Enter operand as [+,-,*,/]: \")\n",
    "    if symbol == \"+\":\n",
    "      print(f\"Sum = {x + y}\")\n",
    "      break\n",
    "    elif symbol == \"-\":\n",
    "      print(f\"Subtraction = {x - y}\")\n",
    "      break\n",
    "    elif symbol == \"*\":\n",
    "      print(f\"Multiplication = {x * y}\")\n",
    "      break\n",
    "    elif symbol == \"/\":\n",
    "      print(f\"Division = {x / y}\")\n",
    "      break\n",
    "    else:\n",
    "      if True:\n",
    "          print(\"Enter a valid operand...\")\n",
    "    \n",
    "    \n",
    "     \n",
    "      \n",
    "\n",
    "\n"
   ]
  },
  {
   "cell_type": "markdown",
   "id": "d984bfac",
   "metadata": {},
   "source": [
    "***"
   ]
  },
  {
   "cell_type": "markdown",
   "id": "45d6fbcb-f237-49ba-bca1-87e31e8c0993",
   "metadata": {},
   "source": [
    "### Question 7\n",
    "Write python script to print the following shape"
   ]
  },
  {
   "cell_type": "code",
   "execution_count": null,
   "id": "c4c23da3-b578-4b0a-b313-a4fc739371d0",
   "metadata": {},
   "outputs": [],
   "source": [
    "******************\n",
    "   ***************\n",
    "      ************\n",
    "         *********\n",
    "            ******\n",
    "               ***"
   ]
  },
  {
   "cell_type": "code",
   "execution_count": null,
   "id": "81700e77-30da-4ce2-93e4-f45ee432a93a",
   "metadata": {},
   "outputs": [],
   "source": [
    "\n",
    "***\n",
    "******\n",
    "*********\n",
    "************\n",
    "***************"
   ]
  },
  {
   "cell_type": "markdown",
   "id": "420c5259-c071-4883-9d7f-96b72c2263fd",
   "metadata": {},
   "source": [
    "### Question 8\n",
    "Write python script to print the following shape"
   ]
  },
  {
   "cell_type": "code",
   "execution_count": null,
   "id": "3c80cbe6-1017-491b-a7f6-1520c4f56b15",
   "metadata": {},
   "outputs": [],
   "source": [
    "            *             \n",
    "           ***\n",
    "          *****\n",
    "         *******\n",
    "        *********"
   ]
  },
  {
   "cell_type": "markdown",
   "id": "004ecfc4",
   "metadata": {},
   "source": [
    "***"
   ]
  },
  {
   "cell_type": "markdown",
   "id": "ebd9abc6-802a-41bb-b917-7148de8f84bf",
   "metadata": {},
   "source": [
    "### question 10\n",
    "\n",
    "Create a random password generator with the following conditions:\n",
    " - Has to be at least 10 characters\n",
    " - Has to have one or more of the special characters\n",
    " - Has to have combination of lower and upper cases letters\n",
    " - Has to have numbers"
   ]
  },
  {
   "cell_type": "code",
   "execution_count": 14,
   "id": "ebdcd71f-8e2b-4348-a91a-944da0c597d1",
   "metadata": {},
   "outputs": [
    {
     "name": "stdout",
     "output_type": "stream",
     "text": [
      "None\n"
     ]
    }
   ],
   "source": [
    "      "
   ]
  },
  {
   "cell_type": "code",
   "execution_count": null,
   "id": "4c924a38-dfb2-4e9b-8e04-c2bfc9549e51",
   "metadata": {},
   "outputs": [],
   "source": []
  }
 ],
 "metadata": {
  "kernelspec": {
   "display_name": "Python 3 (ipykernel)",
   "language": "python",
   "name": "python3"
  },
  "language_info": {
   "codemirror_mode": {
    "name": "ipython",
    "version": 3
   },
   "file_extension": ".py",
   "mimetype": "text/x-python",
   "name": "python",
   "nbconvert_exporter": "python",
   "pygments_lexer": "ipython3",
   "version": "3.13.1"
  }
 },
 "nbformat": 4,
 "nbformat_minor": 5
}
